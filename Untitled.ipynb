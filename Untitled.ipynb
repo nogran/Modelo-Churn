{
 "cells": [
  {
   "cell_type": "code",
   "execution_count": 21,
   "id": "e1e50789-2b33-4a14-be75-d4ee35cb2c9f",
   "metadata": {},
   "outputs": [],
   "source": [
    "import pandas as pd\n",
    "import seaborn as srn\n",
    "import statistics as sts"
   ]
  },
  {
   "cell_type": "code",
   "execution_count": 22,
   "id": "7e9b2626-eb16-4ffa-ba7b-4c367bb87b90",
   "metadata": {},
   "outputs": [
    {
     "data": {
      "text/html": [
       "<div>\n",
       "<style scoped>\n",
       "    .dataframe tbody tr th:only-of-type {\n",
       "        vertical-align: middle;\n",
       "    }\n",
       "\n",
       "    .dataframe tbody tr th {\n",
       "        vertical-align: top;\n",
       "    }\n",
       "\n",
       "    .dataframe thead th {\n",
       "        text-align: right;\n",
       "    }\n",
       "</style>\n",
       "<table border=\"1\" class=\"dataframe\">\n",
       "  <thead>\n",
       "    <tr style=\"text-align: right;\">\n",
       "      <th></th>\n",
       "      <th>X0;X1;X2;X3;X4;X4;X6;X7;X8;X9;X10;X11</th>\n",
       "    </tr>\n",
       "  </thead>\n",
       "  <tbody>\n",
       "    <tr>\n",
       "      <th>0</th>\n",
       "      <td>1;619;RS;Feminino;42;2;0;1;1;1;10134888;1</td>\n",
       "    </tr>\n",
       "    <tr>\n",
       "      <th>1</th>\n",
       "      <td>2;608;SC;Feminino;41;1;8380786;1;0;1;11254258;0</td>\n",
       "    </tr>\n",
       "    <tr>\n",
       "      <th>2</th>\n",
       "      <td>3;502;RS;Feminino;42;8;1596608;3;1;0;11393157;1</td>\n",
       "    </tr>\n",
       "    <tr>\n",
       "      <th>3</th>\n",
       "      <td>4;699;RS;Feminino;39;1;0;2;0;0;9382663;0</td>\n",
       "    </tr>\n",
       "    <tr>\n",
       "      <th>4</th>\n",
       "      <td>5;850;SC;Feminino;43;2;12551082;1;1;1;790841;0</td>\n",
       "    </tr>\n",
       "  </tbody>\n",
       "</table>\n",
       "</div>"
      ],
      "text/plain": [
       "             X0;X1;X2;X3;X4;X4;X6;X7;X8;X9;X10;X11\n",
       "0        1;619;RS;Feminino;42;2;0;1;1;1;10134888;1\n",
       "1  2;608;SC;Feminino;41;1;8380786;1;0;1;11254258;0\n",
       "2  3;502;RS;Feminino;42;8;1596608;3;1;0;11393157;1\n",
       "3         4;699;RS;Feminino;39;1;0;2;0;0;9382663;0\n",
       "4   5;850;SC;Feminino;43;2;12551082;1;1;1;790841;0"
      ]
     },
     "execution_count": 22,
     "metadata": {},
     "output_type": "execute_result"
    }
   ],
   "source": [
    "dataset = pd.read_csv('./dados/Churn.csv')\n",
    "dataset.head()"
   ]
  },
  {
   "cell_type": "code",
   "execution_count": 23,
   "id": "348f6747-852d-498d-a854-0a1cec2bc81f",
   "metadata": {},
   "outputs": [
    {
     "data": {
      "text/html": [
       "<div>\n",
       "<style scoped>\n",
       "    .dataframe tbody tr th:only-of-type {\n",
       "        vertical-align: middle;\n",
       "    }\n",
       "\n",
       "    .dataframe tbody tr th {\n",
       "        vertical-align: top;\n",
       "    }\n",
       "\n",
       "    .dataframe thead th {\n",
       "        text-align: right;\n",
       "    }\n",
       "</style>\n",
       "<table border=\"1\" class=\"dataframe\">\n",
       "  <thead>\n",
       "    <tr style=\"text-align: right;\">\n",
       "      <th></th>\n",
       "      <th>X0</th>\n",
       "      <th>X1</th>\n",
       "      <th>X2</th>\n",
       "      <th>X3</th>\n",
       "      <th>X4</th>\n",
       "      <th>X4.1</th>\n",
       "      <th>X6</th>\n",
       "      <th>X7</th>\n",
       "      <th>X8</th>\n",
       "      <th>X9</th>\n",
       "      <th>X10</th>\n",
       "      <th>X11</th>\n",
       "    </tr>\n",
       "  </thead>\n",
       "  <tbody>\n",
       "    <tr>\n",
       "      <th>0</th>\n",
       "      <td>1</td>\n",
       "      <td>619</td>\n",
       "      <td>RS</td>\n",
       "      <td>Feminino</td>\n",
       "      <td>42</td>\n",
       "      <td>2</td>\n",
       "      <td>0</td>\n",
       "      <td>1</td>\n",
       "      <td>1</td>\n",
       "      <td>1</td>\n",
       "      <td>10134888.0</td>\n",
       "      <td>1</td>\n",
       "    </tr>\n",
       "    <tr>\n",
       "      <th>1</th>\n",
       "      <td>2</td>\n",
       "      <td>608</td>\n",
       "      <td>SC</td>\n",
       "      <td>Feminino</td>\n",
       "      <td>41</td>\n",
       "      <td>1</td>\n",
       "      <td>8380786</td>\n",
       "      <td>1</td>\n",
       "      <td>0</td>\n",
       "      <td>1</td>\n",
       "      <td>11254258.0</td>\n",
       "      <td>0</td>\n",
       "    </tr>\n",
       "    <tr>\n",
       "      <th>2</th>\n",
       "      <td>3</td>\n",
       "      <td>502</td>\n",
       "      <td>RS</td>\n",
       "      <td>Feminino</td>\n",
       "      <td>42</td>\n",
       "      <td>8</td>\n",
       "      <td>1596608</td>\n",
       "      <td>3</td>\n",
       "      <td>1</td>\n",
       "      <td>0</td>\n",
       "      <td>11393157.0</td>\n",
       "      <td>1</td>\n",
       "    </tr>\n",
       "    <tr>\n",
       "      <th>3</th>\n",
       "      <td>4</td>\n",
       "      <td>699</td>\n",
       "      <td>RS</td>\n",
       "      <td>Feminino</td>\n",
       "      <td>39</td>\n",
       "      <td>1</td>\n",
       "      <td>0</td>\n",
       "      <td>2</td>\n",
       "      <td>0</td>\n",
       "      <td>0</td>\n",
       "      <td>9382663.0</td>\n",
       "      <td>0</td>\n",
       "    </tr>\n",
       "    <tr>\n",
       "      <th>4</th>\n",
       "      <td>5</td>\n",
       "      <td>850</td>\n",
       "      <td>SC</td>\n",
       "      <td>Feminino</td>\n",
       "      <td>43</td>\n",
       "      <td>2</td>\n",
       "      <td>12551082</td>\n",
       "      <td>1</td>\n",
       "      <td>1</td>\n",
       "      <td>1</td>\n",
       "      <td>790841.0</td>\n",
       "      <td>0</td>\n",
       "    </tr>\n",
       "  </tbody>\n",
       "</table>\n",
       "</div>"
      ],
      "text/plain": [
       "   X0   X1  X2        X3  X4  X4.1        X6  X7  X8  X9         X10  X11\n",
       "0   1  619  RS  Feminino  42     2         0   1   1   1  10134888.0    1\n",
       "1   2  608  SC  Feminino  41     1   8380786   1   0   1  11254258.0    0\n",
       "2   3  502  RS  Feminino  42     8   1596608   3   1   0  11393157.0    1\n",
       "3   4  699  RS  Feminino  39     1         0   2   0   0   9382663.0    0\n",
       "4   5  850  SC  Feminino  43     2  12551082   1   1   1    790841.0    0"
      ]
     },
     "execution_count": 23,
     "metadata": {},
     "output_type": "execute_result"
    }
   ],
   "source": [
    "#necessario acrescentar separador das colunas \n",
    "dataset = pd.read_csv('./dados/Churn.csv',sep=\";\") \n",
    "dataset.head()"
   ]
  },
  {
   "cell_type": "code",
   "execution_count": 24,
   "id": "df152087-df0c-4ba5-99fa-e8afb77e992b",
   "metadata": {},
   "outputs": [
    {
     "data": {
      "text/plain": [
       "(999, 12)"
      ]
     },
     "execution_count": 24,
     "metadata": {},
     "output_type": "execute_result"
    }
   ],
   "source": [
    "dataset.shape #visualizar tamanho"
   ]
  },
  {
   "cell_type": "code",
   "execution_count": 35,
   "id": "893069a3-6732-4fda-afd5-61b5a29ec9e7",
   "metadata": {},
   "outputs": [],
   "source": [
    "#renomear/resolver problema nome das colunas\n",
    "dataset.columns = [\"id\",\"Score\",\"Estado\",\"Genero\",\"Idade\",\"Patrimonio(itens)\",\"Saldo\",\"Produtos\",\"Tem_cartao_credito\",\"Ativo\",\"Salario\",\"Saiu\"]"
   ]
  },
  {
   "cell_type": "code",
   "execution_count": 36,
   "id": "d4a50bfc-1aef-4809-a0a2-54606bade300",
   "metadata": {},
   "outputs": [
    {
     "data": {
      "text/html": [
       "<div>\n",
       "<style scoped>\n",
       "    .dataframe tbody tr th:only-of-type {\n",
       "        vertical-align: middle;\n",
       "    }\n",
       "\n",
       "    .dataframe tbody tr th {\n",
       "        vertical-align: top;\n",
       "    }\n",
       "\n",
       "    .dataframe thead th {\n",
       "        text-align: right;\n",
       "    }\n",
       "</style>\n",
       "<table border=\"1\" class=\"dataframe\">\n",
       "  <thead>\n",
       "    <tr style=\"text-align: right;\">\n",
       "      <th></th>\n",
       "      <th>id</th>\n",
       "      <th>Score</th>\n",
       "      <th>Estado</th>\n",
       "      <th>Genero</th>\n",
       "      <th>Idade</th>\n",
       "      <th>Patrimonio(itens)</th>\n",
       "      <th>Saldo</th>\n",
       "      <th>Produtos</th>\n",
       "      <th>Tem_cartao_credito</th>\n",
       "      <th>Ativo</th>\n",
       "      <th>Salario</th>\n",
       "      <th>Saiu</th>\n",
       "    </tr>\n",
       "  </thead>\n",
       "  <tbody>\n",
       "    <tr>\n",
       "      <th>0</th>\n",
       "      <td>1</td>\n",
       "      <td>619</td>\n",
       "      <td>RS</td>\n",
       "      <td>Feminino</td>\n",
       "      <td>42</td>\n",
       "      <td>2</td>\n",
       "      <td>0</td>\n",
       "      <td>1</td>\n",
       "      <td>1</td>\n",
       "      <td>1</td>\n",
       "      <td>10134888.0</td>\n",
       "      <td>1</td>\n",
       "    </tr>\n",
       "    <tr>\n",
       "      <th>1</th>\n",
       "      <td>2</td>\n",
       "      <td>608</td>\n",
       "      <td>SC</td>\n",
       "      <td>Feminino</td>\n",
       "      <td>41</td>\n",
       "      <td>1</td>\n",
       "      <td>8380786</td>\n",
       "      <td>1</td>\n",
       "      <td>0</td>\n",
       "      <td>1</td>\n",
       "      <td>11254258.0</td>\n",
       "      <td>0</td>\n",
       "    </tr>\n",
       "    <tr>\n",
       "      <th>2</th>\n",
       "      <td>3</td>\n",
       "      <td>502</td>\n",
       "      <td>RS</td>\n",
       "      <td>Feminino</td>\n",
       "      <td>42</td>\n",
       "      <td>8</td>\n",
       "      <td>1596608</td>\n",
       "      <td>3</td>\n",
       "      <td>1</td>\n",
       "      <td>0</td>\n",
       "      <td>11393157.0</td>\n",
       "      <td>1</td>\n",
       "    </tr>\n",
       "    <tr>\n",
       "      <th>3</th>\n",
       "      <td>4</td>\n",
       "      <td>699</td>\n",
       "      <td>RS</td>\n",
       "      <td>Feminino</td>\n",
       "      <td>39</td>\n",
       "      <td>1</td>\n",
       "      <td>0</td>\n",
       "      <td>2</td>\n",
       "      <td>0</td>\n",
       "      <td>0</td>\n",
       "      <td>9382663.0</td>\n",
       "      <td>0</td>\n",
       "    </tr>\n",
       "    <tr>\n",
       "      <th>4</th>\n",
       "      <td>5</td>\n",
       "      <td>850</td>\n",
       "      <td>SC</td>\n",
       "      <td>Feminino</td>\n",
       "      <td>43</td>\n",
       "      <td>2</td>\n",
       "      <td>12551082</td>\n",
       "      <td>1</td>\n",
       "      <td>1</td>\n",
       "      <td>1</td>\n",
       "      <td>790841.0</td>\n",
       "      <td>0</td>\n",
       "    </tr>\n",
       "  </tbody>\n",
       "</table>\n",
       "</div>"
      ],
      "text/plain": [
       "   id  Score Estado    Genero  Idade  Patrimonio(itens)     Saldo  Produtos  \\\n",
       "0   1    619     RS  Feminino     42                  2         0         1   \n",
       "1   2    608     SC  Feminino     41                  1   8380786         1   \n",
       "2   3    502     RS  Feminino     42                  8   1596608         3   \n",
       "3   4    699     RS  Feminino     39                  1         0         2   \n",
       "4   5    850     SC  Feminino     43                  2  12551082         1   \n",
       "\n",
       "   Tem_cartao_credito  Ativo     Salario  Saiu  \n",
       "0                   1      1  10134888.0     1  \n",
       "1                   0      1  11254258.0     0  \n",
       "2                   1      0  11393157.0     1  \n",
       "3                   0      0   9382663.0     0  \n",
       "4                   1      1    790841.0     0  "
      ]
     },
     "execution_count": 36,
     "metadata": {},
     "output_type": "execute_result"
    }
   ],
   "source": [
    "dataset.head()"
   ]
  },
  {
   "cell_type": "code",
   "execution_count": 38,
   "id": "db0874cc-baf4-4add-9960-569931d73288",
   "metadata": {},
   "outputs": [
    {
     "data": {
      "text/plain": [
       "Estado\n",
       "PR    257\n",
       "RP      1\n",
       "RS    478\n",
       "SC    258\n",
       "SP      4\n",
       "TD      1\n",
       "dtype: int64"
      ]
     },
     "execution_count": 38,
     "metadata": {},
     "output_type": "execute_result"
    }
   ],
   "source": [
    "#analise dos dados - conhecendo os dados\n",
    "estados_agrupados = dataset.groupby([\"Estado\"]).size()\n",
    "estados_agrupados"
   ]
  },
  {
   "cell_type": "code",
   "execution_count": 39,
   "id": "47380fcb-b67d-40b4-8647-3aab779b5012",
   "metadata": {},
   "outputs": [
    {
     "data": {
      "text/plain": [
       "<AxesSubplot:xlabel='Estado'>"
      ]
     },
     "execution_count": 39,
     "metadata": {},
     "output_type": "execute_result"
    },
    {
     "data": {
      "image/png": "[encoded data removed]",
      "text/plain": [
       "<Figure size 432x288 with 1 Axes>"
      ]
     },
     "metadata": {
      "needs_background": "light"
     },
     "output_type": "display_data"
    }
   ],
   "source": [
    "#para visualizar por grafico de barras, pode acrescentar cor\n",
    "estados_agrupados.plot.bar(color = 'gray')"
   ]
  },
  {
   "cell_type": "code",
   "execution_count": 40,
   "id": "c551368b-326d-48e3-8242-382192bcb066",
   "metadata": {},
   "outputs": [],
   "source": [
    "# estados \"RP\" e \"TD\" nao existem. os estados que estamos analisando sao apenas da regiao SUL, ou seja, o estado \"SP\" embora exista, nao faz parte.\n",
    "\n"
   ]
  },
  {
   "cell_type": "code",
   "execution_count": 42,
   "id": "e798091b-2468-4217-a1ad-31b92584844e",
   "metadata": {},
   "outputs": [
    {
     "data": {
      "text/plain": [
       "Genero\n",
       "F              2\n",
       "Fem            1\n",
       "Feminino     461\n",
       "M              6\n",
       "Masculino    521\n",
       "dtype: int64"
      ]
     },
     "execution_count": 42,
     "metadata": {},
     "output_type": "execute_result"
    }
   ],
   "source": [
    "generos_agrupados = dataset.groupby(['Genero']).size()\n",
    "generos_agrupados"
   ]
  },
  {
   "cell_type": "code",
   "execution_count": 43,
   "id": "dd0c23af-a3a1-4920-94aa-aaa646275ba1",
   "metadata": {},
   "outputs": [],
   "source": [
    "#problema de inputs nos dados (dados de fontes diferentes, necessario agrupar \"F\" e \"Fem\" em \"Feminino\" e agrupar \"M\" em \"Masculino\""
   ]
  },
  {
   "cell_type": "code",
   "execution_count": 44,
   "id": "779b5f39-b536-4234-bcee-1cea73f3e400",
   "metadata": {},
   "outputs": [
    {
     "data": {
      "text/plain": [
       "<AxesSubplot:xlabel='Genero'>"
      ]
     },
     "execution_count": 44,
     "metadata": {},
     "output_type": "execute_result"
    },
    {
     "data": {
      "image/png": "[encoded data removed]",
      "text/plain": [
       "<Figure size 432x288 with 1 Axes>"
      ]
     },
     "metadata": {
      "needs_background": "light"
     },
     "output_type": "display_data"
    }
   ],
   "source": [
    "generos_agrupados.plot.bar(color = \"gray\")"
   ]
  },
  {
   "cell_type": "code",
   "execution_count": 46,
   "id": "898204dc-87e3-4690-b8da-2ecc34d5790a",
   "metadata": {},
   "outputs": [
    {
     "data": {
      "text/plain": [
       "count    999.000000\n",
       "mean     648.621622\n",
       "std       98.264219\n",
       "min      376.000000\n",
       "25%      580.000000\n",
       "50%      653.000000\n",
       "75%      721.000000\n",
       "max      850.000000\n",
       "Name: Score, dtype: float64"
      ]
     },
     "execution_count": 46,
     "metadata": {},
     "output_type": "execute_result"
    }
   ],
   "source": [
    "#explorando colunas numericas. Aparentemente os dados estao ok. Nao foi encontrado valor zero, a media (mean 648.621622) e mediana (50% 653.000000) estao proximos. Podemos afirmar que nao existem grandes numeros distantes dos objetos (outliers).\n",
    "dataset['Score'].describe()"
   ]
  },
  {
   "cell_type": "code",
   "execution_count": 51,
   "id": "8cb1590b-2c63-46b2-860c-da06d9093706",
   "metadata": {},
   "outputs": [
    {
     "name": "stderr",
     "output_type": "stream",
     "text": [
      "/home/pc/anaconda3/envs/env01conda/lib/python3.9/site-packages/seaborn/_decorators.py:36: FutureWarning: Pass the following variable as a keyword arg: x. From version 0.12, the only valid positional argument will be `data`, and passing other arguments without an explicit keyword will result in an error or misinterpretation.\n",
      "  warnings.warn(\n"
     ]
    },
    {
     "data": {
      "text/plain": [
       "Text(0.5, 1.0, 'Score')"
      ]
     },
     "execution_count": 51,
     "metadata": {},
     "output_type": "execute_result"
    },
    {
     "data": {
      "image/png": "[encoded data removed]",
      "text/plain": [
       "<Figure size 432x288 with 1 Axes>"
      ]
     },
     "metadata": {
      "needs_background": "light"
     },
     "output_type": "display_data"
    }
   ],
   "source": [
    "srn.boxplot(dataset['Score']).set_title('Score')"
   ]
  },
  {
   "cell_type": "code",
   "execution_count": 53,
   "id": "d46697cb-c52f-4422-97d0-5ca1c17ba05b",
   "metadata": {},
   "outputs": [
    {
     "name": "stderr",
     "output_type": "stream",
     "text": [
      "/home/pc/anaconda3/envs/env01conda/lib/python3.9/site-packages/seaborn/distributions.py:2619: FutureWarning: `distplot` is a deprecated function and will be removed in a future version. Please adapt your code to use either `displot` (a figure-level function with similar flexibility) or `histplot` (an axes-level function for histograms).\n",
      "  warnings.warn(msg, FutureWarning)\n"
     ]
    },
    {
     "data": {
      "text/plain": [
       "Text(0.5, 1.0, 'Score')"
      ]
     },
     "execution_count": 53,
     "metadata": {},
     "output_type": "execute_result"
    },
    {
     "data": {
      "image/png": "[encoded data removed]",
      "text/plain": [
       "<Figure size 432x288 with 1 Axes>"
      ]
     },
     "metadata": {
      "needs_background": "light"
     },
     "output_type": "display_data"
    }
   ],
   "source": [
    "srn.distplot(dataset['Score']).set_title('Score')"
   ]
  },
  {
   "cell_type": "code",
   "execution_count": 55,
   "id": "80e8dada-6274-4495-b118-d2f31ef88850",
   "metadata": {},
   "outputs": [
    {
     "data": {
      "text/plain": [
       "count    999.000000\n",
       "mean      38.902903\n",
       "std       11.401912\n",
       "min      -20.000000\n",
       "25%       32.000000\n",
       "50%       37.000000\n",
       "75%       44.000000\n",
       "max      140.000000\n",
       "Name: Idade, dtype: float64"
      ]
     },
     "execution_count": 55,
     "metadata": {},
     "output_type": "execute_result"
    }
   ],
   "source": [
    "dataset['Idade'].describe()"
   ]
  },
  {
   "cell_type": "code",
   "execution_count": 59,
   "id": "b786311f-5457-4f13-9e62-fe870f8b8462",
   "metadata": {},
   "outputs": [
    {
     "name": "stderr",
     "output_type": "stream",
     "text": [
      "/home/pc/anaconda3/envs/env01conda/lib/python3.9/site-packages/seaborn/_decorators.py:36: FutureWarning: Pass the following variable as a keyword arg: x. From version 0.12, the only valid positional argument will be `data`, and passing other arguments without an explicit keyword will result in an error or misinterpretation.\n",
      "  warnings.warn(\n"
     ]
    },
    {
     "data": {
      "text/plain": [
       "Text(0.5, 1.0, 'Idade')"
      ]
     },
     "execution_count": 59,
     "metadata": {},
     "output_type": "execute_result"
    },
    {
     "data": {
      "image/png": "[encoded data removed]",
      "text/plain": [
       "<Figure size 432x288 with 1 Axes>"
      ]
     },
     "metadata": {
      "needs_background": "light"
     },
     "output_type": "display_data"
    }
   ],
   "source": [
    "srn.boxplot(dataset['Idade']).set_title('Idade')"
   ]
  },
  {
   "cell_type": "code",
   "execution_count": null,
   "id": "421e7345-9ca7-4725-b9b3-35a30e2a4147",
   "metadata": {},
   "outputs": [],
   "source": []
  }
 ],
 "metadata": {
  "kernelspec": {
   "display_name": "Python 3 (ipykernel)",
   "language": "python",
   "name": "python3"
  },
  "language_info": {
   "codemirror_mode": {
    "name": "ipython",
    "version": 3
   },
   "file_extension": ".py",
   "mimetype": "text/x-python",
   "name": "python",
   "nbconvert_exporter": "python",
   "pygments_lexer": "ipython3",
   "version": "3.9.7"
  }
 },
 "nbformat": 4,
 "nbformat_minor": 5
}
